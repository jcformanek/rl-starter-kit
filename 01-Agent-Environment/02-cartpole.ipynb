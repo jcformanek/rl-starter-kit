{
 "metadata": {
  "language_info": {
   "codemirror_mode": {
    "name": "ipython",
    "version": 3
   },
   "file_extension": ".py",
   "mimetype": "text/x-python",
   "name": "python",
   "nbconvert_exporter": "python",
   "pygments_lexer": "ipython3",
   "version": 3
  },
  "orig_nbformat": 4
 },
 "nbformat": 4,
 "nbformat_minor": 2,
 "cells": [
  {
   "source": [
    "# Agent-Environment Interface\n",
    "In RL we have an agent interacting with an environment. At every timestep $t$ the agent observes the state $s_t$ of the environment and choses an action $a_t$ to perform. Given the agent's action, the environment gives the agent a reward $r_t$ and transitions to a new state $s_{t+1}$. This interaction is known as the agent-environment interface and is given by the following diagram.\n",
    "\n",
    "![The Agent-Environment Interface](../images/agent-environment.png)\n",
    "\n",
    "We can implement this interface in code by building an Agent class and an Environment class. The Agent class should have a method `choose_action(state)` which, given a `state`, returns a valid `action`. The Environment should have a method `step(action)` which, given an `action`, should perform the given `action` in the environment and return the `next_state`.\n",
    "\n",
    "One way to represent the `state` of an environment is to use a feature vector. Each element in the vector represents a feature of the environment. As an example lets implement a simple grid-world environment where an agent needs to navigate from the bottom left of the grid-world to the top right. We can represent the `state` of the environment by a vector of the agent's x- and y-coordinates. In Python we can implement vectors using the `numpy` library."
   ],
   "cell_type": "markdown",
   "metadata": {}
  },
  {
   "cell_type": "code",
   "execution_count": null,
   "metadata": {},
   "outputs": [],
   "source": [
    "# import the numpy library\n",
    "import numpy as np\n",
    "\n",
    "# We can convert lists in Python to numpy arrays.\n",
    "bottom_left = [0,0] # [x, y]\n",
    "print(\"List:\", bottom_left)\n",
    "bottom_left = np.array(bottom_left) # numpy array\n",
    "print(\"Numpy array:\", bottom_left)\n",
    "\n",
    "# Numpy arrays are powerful because they behave like vectors.\n",
    "# We can do vector addition using numpy arrays.\n",
    "move_right = np.array([1,0])\n",
    "print(\"Move right\", bottom_left + move_right)\n"
   ]
  },
  {
   "cell_type": "code",
   "execution_count": null,
   "metadata": {},
   "outputs": [],
   "source": []
  }
 ]
}