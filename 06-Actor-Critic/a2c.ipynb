{
 "cells": [
  {
   "cell_type": "markdown",
   "source": [
    "# Advantage Actor-Critic\n",
    "In this notebook we implement a mnimal version of Advantage Actor-Critic (A2C)."
   ],
   "metadata": {}
  },
  {
   "cell_type": "code",
   "execution_count": 1,
   "source": [
    "%%capture\n",
    "!pip install numpy tensorflow gym"
   ],
   "outputs": [],
   "metadata": {}
  },
  {
   "cell_type": "markdown",
   "source": [
    "## Actor-critic algorithms\n"
   ],
   "metadata": {}
  },
  {
   "cell_type": "markdown",
   "source": [
    "## Replay buffer\n",
    "First we will implement a more sophisticated replay buffer. In A2C we only store recent experince in the replay buffer and clear the buffer after we have performed one learning step on it, like in REINFORCE. However, in my implementation of REINFORCE I only stored one trajectory in replay before performing a learner step. This meant we had fairly small mini-batches to perform learning steps on, resulting in gradient estimates with high-varience. The high-varience gradients slow down the convergence of the algorithm on the optimal policy.\n",
    "\n",
    "To adress this issue we will collect a fixed number of experience samples before performing a learning step. In this case we will collect 2000 transitions before performing a learning step. If we collect the 2000th sample in the middle of a training roll-out we will interup the roll-out and estimate the return we would get in the remainder of the roll-out by using our critic network. This procedure of using an aproximate value function to estimate future returns is know as boot-strapping and in expectation should lead to convergence on the optimal policy."
   ],
   "metadata": {}
  },
  {
   "cell_type": "markdown",
   "source": [],
   "metadata": {}
  }
 ],
 "metadata": {
  "orig_nbformat": 4,
  "language_info": {
   "name": "python",
   "version": "3.7.10",
   "mimetype": "text/x-python",
   "codemirror_mode": {
    "name": "ipython",
    "version": 3
   },
   "pygments_lexer": "ipython3",
   "nbconvert_exporter": "python",
   "file_extension": ".py"
  },
  "kernelspec": {
   "name": "python3",
   "display_name": "Python 3.7.10 64-bit ('rl-starter-kit': conda)"
  },
  "interpreter": {
   "hash": "2f1f09945eed0f0215de5d99819a5380b074734dbade509b2a9db3176055ac64"
  }
 },
 "nbformat": 4,
 "nbformat_minor": 2
}